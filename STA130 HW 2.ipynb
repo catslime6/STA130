{
 "cells": [
  {
   "cell_type": "code",
   "execution_count": 3,
   "id": "ba5c9498",
   "metadata": {},
   "outputs": [
    {
     "name": "stdout",
     "output_type": "stream",
     "text": [
      "Wins staying: 353 (35.30%)\n",
      "Wins switching: 668 (66.80%)\n"
     ]
    }
   ],
   "source": [
    "import random\n",
    "\n",
    "def play_monty_hall(switch_doors):\n",
    "  \"\"\"Simulates a single round of the Monty Hall game.\n",
    "\n",
    "  Args:\n",
    "    switch_doors: A boolean indicating whether the player switches doors.\n",
    "\n",
    "  Returns:\n",
    "    True if the player wins, False otherwise.\n",
    "  \"\"\"\n",
    "\n",
    "  # Initialize the doors\n",
    "  doors = ['goat', 'goat', 'car']\n",
    "  random.shuffle(doors)\n",
    "\n",
    "  # Player chooses a door\n",
    "  player_choice = random.randint(0, 2)\n",
    "\n",
    "  # Monty reveals a goat behind a different door\n",
    "  for i in range(3):\n",
    "    if i != player_choice and doors[i] == 'goat':\n",
    "      monty_reveal = i\n",
    "      break\n",
    "\n",
    "  # Player switches doors if they choose to\n",
    "  if switch_doors:\n",
    "    for i in range(3):\n",
    "      if i != player_choice and i != monty_reveal:\n",
    "        player_choice = i\n",
    "        break\n",
    "\n",
    "  # Check if the player won\n",
    "  if doors[player_choice] == 'car':\n",
    "    return True\n",
    "  else:\n",
    "    return False\n",
    "\n",
    "# Run the simulation for 1000 rounds\n",
    "num_rounds = 1000\n",
    "wins_staying = 0\n",
    "wins_switching = 0\n",
    "\n",
    "for i in range(num_rounds):\n",
    "  # Play the game with the player staying with their initial choice\n",
    "  wins_staying += play_monty_hall(switch_doors=False)\n",
    "\n",
    "  # Play the game with the player switching doors\n",
    "  wins_switching += play_monty_hall(switch_doors=True)\n",
    "\n",
    "# Print the results\n",
    "print(f\"Wins staying: {wins_staying} ({wins_staying / num_rounds * 100:.2f}%)\")\n",
    "print(f\"Wins switching: {wins_switching} ({wins_switching / num_rounds * 100:.2f}%)\")"
   ]
  },
  {
   "cell_type": "markdown",
   "id": "2c6e424b",
   "metadata": {},
   "source": [
    "This Python code simulates the Monty Hall problem, running 1000 rounds of the game. It starts by randomly assigning a car and two goats behind three doors. The player then randomly chooses a door.  The code then simulates Monty revealing a goat behind a different door. If the player chooses to switch doors, the code switches their choice to the remaining unopened door. Finally, the code checks if the player has won by selecting the door with the car. The results are printed, showing the number of wins for both staying and switching strategies. This simulation demonstrates that switching doors significantly increases the probability of winning the car. "
   ]
  },
  {
   "cell_type": "markdown",
   "id": "2ccdd956",
   "metadata": {},
   "source": [
    "6. Report on your experience interacting with ChatBots to understand the Monte Hall problem and \"Markovian ChatBot\" code\n",
    "Discuss how quickly the ChatBot was able to be helpful for each of the above questions, and if so, how?\n",
    "\n",
    "Very, it was able to effectively summarize information and help me to take it in\n",
    "\n",
    "Discuss whether or not interacting with ChatBot to try to figure things out was frustrating or unhelpful, and if so, how?\n",
    "\n",
    "at times I had to ask it to rephrase or reorganize thoughts, but once I had given the right information it was helpful\n",
    "\n",
    "Based on your experiences to date (e.g., including using ChatBots to troubleshoot coding errors in the previous homework), provide an overall assessment evaluating the usefulness of ChatBots as tools to help you understand code\n",
    "\n",
    "they are useful but imperfect and not a substitute for learning, they only serve as a tool to ease the intake of new information. "
   ]
  },
  {
   "cell_type": "markdown",
   "id": "689621f4",
   "metadata": {},
   "source": [
    "Reflect on your experience interacting with ChatBot and describe how your perception of AI-driven assistance tools in the context of learning coding, statistics, and data science has been evolving (or not) since joining the course\n",
    "\n",
    "my experience has been rather dull and repetitive, my perception of ai tools has gotten worse overall as they are clearly not a substitute for teaching, and the way they are imposed over this course is quite frustrating and makes it very difficult to engage with the material or understand"
   ]
  }
 ],
 "metadata": {
  "kernelspec": {
   "display_name": "Python 3 (ipykernel)",
   "language": "python",
   "name": "python3"
  },
  "language_info": {
   "codemirror_mode": {
    "name": "ipython",
    "version": 3
   },
   "file_extension": ".py",
   "mimetype": "text/x-python",
   "name": "python",
   "nbconvert_exporter": "python",
   "pygments_lexer": "ipython3",
   "version": "3.11.6"
  }
 },
 "nbformat": 4,
 "nbformat_minor": 5
}
